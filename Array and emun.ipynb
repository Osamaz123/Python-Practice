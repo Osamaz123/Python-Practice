{
 "cells": [
  {
   "cell_type": "markdown",
   "id": "4a4af67d",
   "metadata": {},
   "source": [
    "Write a Python program to get the length in bytes of one array item in the internal representation."
   ]
  },
  {
   "cell_type": "code",
   "execution_count": 1,
   "id": "33c8796e",
   "metadata": {},
   "outputs": [
    {
     "name": "stdout",
     "output_type": "stream",
     "text": [
      "4\n"
     ]
    }
   ],
   "source": [
    "from array import *\n",
    "array_num = array('i', [1,2,3,4])\n",
    "\n",
    "print(str(array_num.itemsize))"
   ]
  },
  {
   "cell_type": "code",
   "execution_count": 4,
   "id": "8335bf7c",
   "metadata": {},
   "outputs": [
    {
     "name": "stdout",
     "output_type": "stream",
     "text": [
      "2\n"
     ]
    }
   ],
   "source": [
    "from array import *\n",
    "array_num = array('i', [1, 3, 5,5, 3, 7, 9, 3])\n",
    "\n",
    "print(str(array_num.count(5)))"
   ]
  },
  {
   "cell_type": "markdown",
   "id": "27d52d67",
   "metadata": {},
   "source": [
    "Insert a new item before the second element in an existing array"
   ]
  },
  {
   "cell_type": "code",
   "execution_count": 5,
   "id": "a510d473",
   "metadata": {},
   "outputs": [
    {
     "name": "stdout",
     "output_type": "stream",
     "text": [
      "array('i', [1, 3, 5, 7, 9])\n",
      "array('i', [1, 10, 3, 5, 7, 9])\n"
     ]
    }
   ],
   "source": [
    "from array import *\n",
    "array_num = array('i', [1, 3, 5, 7, 9])\n",
    "print(array_num)\n",
    "\n",
    "array_num.insert(1,10)\n",
    "print(array_num)"
   ]
  },
  {
   "cell_type": "code",
   "execution_count": 7,
   "id": "6bfa9fca",
   "metadata": {},
   "outputs": [
    {
     "name": "stdout",
     "output_type": "stream",
     "text": [
      "[1, 3, 5, 3, 7, 1, 9, 3]\n"
     ]
    }
   ],
   "source": [
    "from array import *\n",
    "array_num = array('i', [1, 3, 5, 3, 7, 1, 9, 3])\n",
    "print(array_num.tolist())"
   ]
  },
  {
   "cell_type": "markdown",
   "id": "b7754ea9",
   "metadata": {},
   "source": [
    "**ENUM**"
   ]
  },
  {
   "cell_type": "code",
   "execution_count": 18,
   "id": "266f412a",
   "metadata": {},
   "outputs": [
    {
     "name": "stdout",
     "output_type": "stream",
     "text": [
      "Color.RED\n",
      "Color.RED\n",
      "<Color.RED: 'R'>\n",
      "RED\n",
      "R\n",
      "A smoking hot red car was crearted!\n"
     ]
    }
   ],
   "source": [
    "from enum import Enum\n",
    "class Color(Enum):\n",
    "    RED: str = 'R'\n",
    "    GREEN: str = 'G'\n",
    "    BLUE: str = 'B'\n",
    "\n",
    "print(Color('R'))\n",
    "print(Color.RED)\n",
    "print(repr(Color.RED))\n",
    "print(Color.RED.name)\n",
    "print(Color.RED.value)\n",
    "\n",
    "def create_car(color) -> None:\n",
    "    match color:\n",
    "        case Color.RED:\n",
    "            print(f\"A smoking hot red car was crearted!\")\n",
    "        case Color.BLUE:\n",
    "            print(f\"A slick smooth blue car was created\")\n",
    "        case Color.GREEN:\n",
    "            print(f'A calm and gracious green car was created!')\n",
    "        case _:\n",
    "            print(f'we dont have the color {color} in our database.')\n",
    "            \n",
    "\n",
    "            \n",
    "create_car(Color.RED)         "
   ]
  },
  {
   "cell_type": "code",
   "execution_count": 29,
   "id": "28d9b73e",
   "metadata": {},
   "outputs": [
    {
     "name": "stdout",
     "output_type": "stream",
     "text": [
      "Color.RED|YELLOW\n",
      "Color.RED\n",
      "Color.YELLOW\n",
      "Color.RED|YELLOW\n",
      "9\n"
     ]
    }
   ],
   "source": [
    "from enum import Enum, Flag\n",
    "\n",
    "\n",
    "class Color(Flag):\n",
    "    RED: int = 1\n",
    "    GREEN: int = 2\n",
    "    BLUE: int = 4\n",
    "    YELLOW: int = 8\n",
    "    BLACK: int = 16\n",
    "#     ORANGE: int = 9\n",
    "\n",
    "yellow_and_red: Color = Color.YELLOW | Color.RED\n",
    "print(yellow_and_red)\n",
    "\n",
    "for color in yellow_and_red:\n",
    "    print(color)\n",
    "    \n",
    "combination: Color = Color.RED | Color.YELLOW\n",
    "\n",
    "print(combination)\n",
    "print(combination.value)"
   ]
  },
  {
   "cell_type": "code",
   "execution_count": 37,
   "id": "b9fd04c5",
   "metadata": {},
   "outputs": [
    {
     "name": "stdout",
     "output_type": "stream",
     "text": [
      "1\n",
      "2\n",
      "4\n",
      "8\n",
      "16\n",
      "31\n",
      "True\n"
     ]
    }
   ],
   "source": [
    "from enum import Enum, Flag, auto\n",
    "\n",
    "\n",
    "class Color(Flag):\n",
    "    RED: int = auto()\n",
    "    GREEN: int = auto()\n",
    "    BLUE: int =  auto()\n",
    "    YELLOW: int = auto()\n",
    "    BLACK: int = auto()\n",
    "    ALL: int = RED | GREEN | BLUE | YELLOW | BLACK\n",
    "    \n",
    "\n",
    "print(Color.RED.value)\n",
    "print(Color.GREEN.value)\n",
    "print(Color.BLUE.value)\n",
    "print(Color.YELLOW.value)\n",
    "print(Color.BLACK.value)\n",
    "print(Color.ALL.value)\n",
    "print(Color.RED in Color.ALL)"
   ]
  },
  {
   "cell_type": "markdown",
   "id": "7df66fa0",
   "metadata": {},
   "source": [
    "Write a Python program to get all values from an enum class."
   ]
  },
  {
   "cell_type": "code",
   "execution_count": 47,
   "id": "acd395d4",
   "metadata": {},
   "outputs": [
    {
     "name": "stdout",
     "output_type": "stream",
     "text": [
      "[93, 355, 213, 376, 244, 672]\n",
      "Country name ordered by country code:\n",
      " Afghanistan\n",
      " Algeria\n",
      " Angola\n",
      " Albania\n",
      " Andorra\n",
      " Antarctica\n"
     ]
    }
   ],
   "source": [
    "from enum import IntEnum\n",
    "class Country(IntEnum):\n",
    "    Afghanistan = 93\n",
    "    Albania = 355\n",
    "    Algeria = 213\n",
    "    Andorra = 376\n",
    "    Angola = 244\n",
    "    Antarctica = 672\n",
    "\n",
    "    \n",
    "print(list(map(int, Country)))\n",
    "\n",
    "print(\"Country name ordered by country code:\")\n",
    "print('\\n'.join(' ' + c.name for c in sorted(Country)))"
   ]
  },
  {
   "cell_type": "code",
   "execution_count": null,
   "id": "763141c1",
   "metadata": {},
   "outputs": [],
   "source": []
  }
 ],
 "metadata": {
  "kernelspec": {
   "display_name": "Python 3 (ipykernel)",
   "language": "python",
   "name": "python3"
  },
  "language_info": {
   "codemirror_mode": {
    "name": "ipython",
    "version": 3
   },
   "file_extension": ".py",
   "mimetype": "text/x-python",
   "name": "python",
   "nbconvert_exporter": "python",
   "pygments_lexer": "ipython3",
   "version": "3.11.3"
  }
 },
 "nbformat": 4,
 "nbformat_minor": 5
}
