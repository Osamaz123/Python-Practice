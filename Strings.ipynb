{
 "cells": [
  {
   "cell_type": "markdown",
   "id": "d9d2048a",
   "metadata": {},
   "source": [
    "Write a  Python program to remove characters that have odd index values in a given string.\n",
    "\n"
   ]
  },
  {
   "cell_type": "code",
   "execution_count": 2,
   "id": "a494020e",
   "metadata": {},
   "outputs": [
    {
     "name": "stdout",
     "output_type": "stream",
     "text": [
      "acegi\n"
     ]
    }
   ],
   "source": [
    "def remove_odd_index_values(str):\n",
    "    res= \"\"\n",
    "    for i in range(len(str)):\n",
    "        if(i%2==0):\n",
    "            res += str[i]\n",
    "            \n",
    "    return res\n",
    "\n",
    "\n",
    "print(remove_odd_index_values(\"abcdefghi\"))\n",
    "            "
   ]
  },
  {
   "cell_type": "markdown",
   "id": "c9aeac60",
   "metadata": {},
   "source": [
    "Count occurence of each word in a sentence"
   ]
  },
  {
   "cell_type": "code",
   "execution_count": 15,
   "id": "26af5a6c",
   "metadata": {},
   "outputs": [
    {
     "name": "stdout",
     "output_type": "stream",
     "text": [
      "{' ': 8, '.': 1, 'a': 1, 'b': 1, 'c': 1, 'd': 1, 'e': 3, 'f': 1, 'g': 1, 'h': 2, 'i': 1, 'j': 1, 'k': 1, 'l': 1, 'm': 1, 'n': 1, 'o': 4, 'p': 1, 'q': 1, 'r': 2, 's': 1, 't': 2, 'u': 2, 'v': 1, 'w': 1, 'x': 1, 'y': 1, 'z': 1}\n"
     ]
    }
   ],
   "source": [
    "def count_occurence(str):\n",
    "    each_count = {}\n",
    "    words = list(str)\n",
    "    \n",
    "    for i in words:\n",
    "        if i in each_count:\n",
    "            each_count[i]+= 1\n",
    "        else:\n",
    "            each_count[i] = 1\n",
    "    return dict(sorted(each_count.items()))\n",
    "\n",
    "print(count_occurence(\"the quick brown fox jumps over the lazy dog.\"))"
   ]
  },
  {
   "cell_type": "markdown",
   "id": "16d7f4f7",
   "metadata": {},
   "source": [
    "`str.split(sep=None, maxsplit=-1)`\n",
    "\n",
    "sep: The delimiter string. If not provided, whitespace is used as the default delimiter.\n",
    "\n",
    "maxsplit: The maximum number of splits. If not provided or set to -1, all possible splits are made.\n",
    "\n",
    "`str.rsplit(sep=None, maxsplit=-1)`"
   ]
  },
  {
   "cell_type": "code",
   "execution_count": 19,
   "id": "927d0183",
   "metadata": {},
   "outputs": [
    {
     "name": "stdout",
     "output_type": "stream",
     "text": [
      "['https://www.w3resource.com/python-exercises', 'string']\n"
     ]
    }
   ],
   "source": [
    "# Get substring before a specific character.\n",
    "str1 = 'https://www.w3resource.com/python-exercises/string'\n",
    "\n",
    "print(str1.rsplit('/',1))"
   ]
  },
  {
   "cell_type": "code",
   "execution_count": 20,
   "id": "ddcfc6f9",
   "metadata": {},
   "outputs": [
    {
     "name": "stdout",
     "output_type": "stream",
     "text": [
      "['c', 'd', 'd', 'd', 'd', 'f', 'f', 'f', 'i', 'i', 'i', 'j', 'j', 'l', 'm', 'n', 'n', 'o', 'u', 'v', 'v']\n"
     ]
    }
   ],
   "source": [
    "s = \"doffvjdivnmlcdijnfdiu\"\n",
    "print(sorted(s))"
   ]
  },
  {
   "cell_type": "markdown",
   "id": "3d14d21c",
   "metadata": {},
   "source": [
    "The rstrip() method in Python is used to remove trailing characters (characters at the end) from a string. By default, it removes any whitespace characters, but you can specify a set of characters to remove."
   ]
  },
  {
   "cell_type": "code",
   "execution_count": 34,
   "id": "d2c990e8",
   "metadata": {},
   "outputs": [
    {
     "name": "stdout",
     "output_type": "stream",
     "text": [
      "Hello World\n",
      "Hi\n"
     ]
    }
   ],
   "source": [
    "str1 = \"  Hello World\\nHi    \"\n",
    "res = str1.strip()\n",
    "print(res)"
   ]
  },
  {
   "cell_type": "code",
   "execution_count": 45,
   "id": "0054589c",
   "metadata": {},
   "outputs": [
    {
     "name": "stdout",
     "output_type": "stream",
     "text": [
      "12.23\n"
     ]
    }
   ],
   "source": [
    "n = 12.2343\n",
    "\n",
    "print(\"{:.2f}\".format(n))"
   ]
  },
  {
   "cell_type": "markdown",
   "id": "f8322231",
   "metadata": {},
   "source": [
    "Reverse words in a string"
   ]
  },
  {
   "cell_type": "code",
   "execution_count": 5,
   "id": "9d26a67d",
   "metadata": {},
   "outputs": [
    {
     "name": "stdout",
     "output_type": "stream",
     "text": [
      "['The', 'quick', 'brown', 'fox', 'jumps', 'over', 'the', 'lazy', 'dog.']\n",
      "dog. lazy the over jumps fox brown quick The\n"
     ]
    }
   ],
   "source": [
    "def reverse_string_words(str):\n",
    "    words = str.split()\n",
    "    rev = \"\"\n",
    "    print(words)\n",
    "#     for s in words:\n",
    "#         rev += \n",
    "        \n",
    "    return (\" \".join(words[::-1]))\n",
    "        \n",
    "    \n",
    "print(reverse_string_words(\"The quick brown fox jumps over the lazy dog.\"))"
   ]
  },
  {
   "cell_type": "code",
   "execution_count": 7,
   "id": "f143d706",
   "metadata": {},
   "outputs": [
    {
     "name": "stdout",
     "output_type": "stream",
     "text": [
      "d\n"
     ]
    }
   ],
   "source": [
    "def first_repeated_char(text):\n",
    "    for i, c in enumerate(text):\n",
    "        if text[:i+1].count(c) > 1:\n",
    "            return c\n",
    "        \n",
    "    return \"None\"\n",
    "\n",
    "\n",
    "print(first_repeated_char(\"kdnfdksafksnsj\"))"
   ]
  },
  {
   "cell_type": "markdown",
   "id": "c55d1733",
   "metadata": {},
   "source": [
    "Remove leading zeros from an IP address"
   ]
  },
  {
   "cell_type": "code",
   "execution_count": 8,
   "id": "a00c163d",
   "metadata": {},
   "outputs": [
    {
     "name": "stdout",
     "output_type": "stream",
     "text": [
      "225.24.1.2\n"
     ]
    }
   ],
   "source": [
    "def remove_zeros_from_ip(ip_add):\n",
    "    new_ip = \".\".join([str(int(i)) for i in ip_add.split(\".\")])\n",
    "    \n",
    "    return new_ip\n",
    "\n",
    "print(remove_zeros_from_ip(\"225.024.01.002\"))"
   ]
  },
  {
   "cell_type": "markdown",
   "id": "c1830bde",
   "metadata": {},
   "source": [
    "Bytearray to hexadecimal string."
   ]
  },
  {
   "cell_type": "code",
   "execution_count": 12,
   "id": "a6fe522f",
   "metadata": {},
   "outputs": [
    {
     "name": "stdout",
     "output_type": "stream",
     "text": [
      "[1, 2, 45, 67, 109]\n",
      "01022d436d\n"
     ]
    }
   ],
   "source": [
    "def bytearray_to_hexadecimal(arr):\n",
    "    res = ''.join('{:02x}'.format(x) for x in arr)\n",
    "    \n",
    "    return res\n",
    "\n",
    "l = [1,2,45,67,109]\n",
    "\n",
    "print(l)\n",
    "\n",
    "print(bytearray_to_hexadecimal(l))"
   ]
  },
  {
   "cell_type": "code",
   "execution_count": null,
   "id": "10b3fc9c",
   "metadata": {},
   "outputs": [],
   "source": []
  },
  {
   "cell_type": "code",
   "execution_count": null,
   "id": "3c31d5b8",
   "metadata": {},
   "outputs": [],
   "source": []
  }
 ],
 "metadata": {
  "kernelspec": {
   "display_name": "Python 3 (ipykernel)",
   "language": "python",
   "name": "python3"
  },
  "language_info": {
   "codemirror_mode": {
    "name": "ipython",
    "version": 3
   },
   "file_extension": ".py",
   "mimetype": "text/x-python",
   "name": "python",
   "nbconvert_exporter": "python",
   "pygments_lexer": "ipython3",
   "version": "3.11.3"
  }
 },
 "nbformat": 4,
 "nbformat_minor": 5
}
