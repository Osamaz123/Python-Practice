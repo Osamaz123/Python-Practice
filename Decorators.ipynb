{
 "cells": [
  {
   "cell_type": "markdown",
   "id": "81731c20",
   "metadata": {},
   "source": [
    "Write a Python program to create a decorator that logs the arguments and return value of a function."
   ]
  },
  {
   "cell_type": "code",
   "execution_count": 5,
   "id": "a0d7514a",
   "metadata": {},
   "outputs": [
    {
     "name": "stdout",
     "output_type": "stream",
     "text": [
      "Calling add_num with args: (10, 20), kwargs: {}\n",
      "add_num returned: 30\n",
      "30\n",
      "Calling add_num with args: (1000, 200), kwargs: {}\n",
      "add_num returned: 1200\n",
      "1200\n"
     ]
    }
   ],
   "source": [
    "def decorator(func):\n",
    "    def wrap(*args, **kwargs):\n",
    "        print(f\"Calling {func.__name__} with args: {args}, kwargs: {kwargs}\")\n",
    "        res = func(*args, **kwargs)\n",
    "        \n",
    "        print(f\"{func.__name__} returned: {res}\")\n",
    "        \n",
    "        return res\n",
    "    return wrap\n",
    "\n",
    "\n",
    "@decorator\n",
    "def add_num(x,y):\n",
    "    return x+y\n",
    "\n",
    "result = add_num(10,20)\n",
    "print(result)\n",
    "\n",
    "print(add_num(1000,200))"
   ]
  },
  {
   "cell_type": "markdown",
   "id": "a3e0a54a",
   "metadata": {},
   "source": [
    "Write a Python program to create a decorator to convert the return value of a function to a specified data type."
   ]
  },
  {
   "cell_type": "code",
   "execution_count": 7,
   "id": "d2e7597c",
   "metadata": {},
   "outputs": [
    {
     "name": "stdout",
     "output_type": "stream",
     "text": [
      "33 <class 'int'>\n",
      "osamazaheer <class 'str'>\n"
     ]
    }
   ],
   "source": [
    "def convert_to_datatype(data_type):\n",
    "    def decorator(func):\n",
    "        def wrap(*args, **kwargs):\n",
    "            res = func(*args, **kwargs)\n",
    "            return data_type(res)\n",
    "        return wrap\n",
    "    return decorator\n",
    "\n",
    "@convert_to_datatype(int)\n",
    "def add_num(x,y):\n",
    "    return x+y\n",
    "\n",
    "\n",
    "@convert_to_datatype(str)\n",
    "def concatinate_strings(x,y):\n",
    "    return x+y\n",
    "\n",
    "r1 =add_num(10,23)\n",
    "r2 = concatinate_strings(\"osama\", \"zaheer\")\n",
    "print(r1, type(r1))\n",
    "print(r2, type(r2))"
   ]
  },
  {
   "cell_type": "markdown",
   "id": "a4e5bcbb",
   "metadata": {},
   "source": [
    "Write a Python program that implements a decorator to retry a function multiple times in case of failure."
   ]
  },
  {
   "cell_type": "code",
   "execution_count": 12,
   "id": "641d0db4",
   "metadata": {},
   "outputs": [
    {
     "name": "stdout",
     "output_type": "stream",
     "text": [
      "error occured: no such table: users. retrying....\n",
      "error occured: no such table: users. retrying....\n",
      "error occured: no such table: users. retrying....\n",
      "error occured: no such table: users. retrying....\n",
      "failed to connect to db: name 'Exection' is not defined\n"
     ]
    }
   ],
   "source": [
    "import sqlite3\n",
    "import time\n",
    "\n",
    "def retry_on_failure(max_retries, delay=1):\n",
    "    def decorator(func):\n",
    "        def wrapper(*args, **kwargs):\n",
    "            for _ in range(max_retries):\n",
    "                try:\n",
    "                    res = func(*args, **kwargs)\n",
    "                    return res\n",
    "                except Exception as e:\n",
    "                    print(f\"error occured: {e}. retrying....\")\n",
    "                    time.sleep(delay)\n",
    "                \n",
    "            raise Exception(\"Maximum retiries exceeded. Function failed\")\n",
    "        return wrapper\n",
    "    return decorator\n",
    "\n",
    "@retry_on_failure(max_retries=4,delay=2)\n",
    "def connect_to_db():\n",
    "    conn = sqlite3.connect(\"example.db\")\n",
    "    cursor = conn.cursor()\n",
    "    cursor.execute(\"select * from users\")\n",
    "    result = cursor.fetchall()\n",
    "    cursor.close()\n",
    "    conn.close()\n",
    "    return result\n",
    "\n",
    "\n",
    "try:\n",
    "    data = connect_to_db()\n",
    "    print(\"Data retrived successfully\", data)\n",
    "except Exception as e:\n",
    "    print(f\"failed to connect to db: {e}\")\n",
    "            \n",
    "            \n",
    "                    "
   ]
  },
  {
   "cell_type": "markdown",
   "id": "84b61b3c",
   "metadata": {},
   "source": [
    "Write a  Python program to create a decorator function to measure the execution time of a function."
   ]
  },
  {
   "cell_type": "code",
   "execution_count": 3,
   "id": "ac0fecf5",
   "metadata": {},
   "outputs": [
    {
     "name": "stdout",
     "output_type": "stream",
     "text": [
      "Function calculate_multiply took 0.0000 seconds to execute\n",
      "Result: 720\n"
     ]
    }
   ],
   "source": [
    "import time\n",
    "\n",
    "def measure_execution_time(func):\n",
    "    def wrapper(*args, **kwargs):\n",
    "        start_time = time.time()\n",
    "        res = func(*args, **kwargs)\n",
    "        end_time = time.time()\n",
    "        execution_time = end_time - start_time\n",
    "        print(f\"Function {func.__name__} took {execution_time:.4f} seconds to execute\")\n",
    "        return res\n",
    "    return wrapper\n",
    "\n",
    "\n",
    "@measure_execution_time\n",
    "def calculate_multiply(numbers):\n",
    "    tot = 1\n",
    "    for x in numbers:\n",
    "        tot*= x\n",
    "    return tot\n",
    "\n",
    "res = calculate_multiply([1,2,3,4,5,6])\n",
    "print(\"Result:\", res)\n",
    "    "
   ]
  },
  {
   "cell_type": "code",
   "execution_count": null,
   "id": "8c6ff22a",
   "metadata": {},
   "outputs": [],
   "source": []
  }
 ],
 "metadata": {
  "kernelspec": {
   "display_name": "Python 3 (ipykernel)",
   "language": "python",
   "name": "python3"
  },
  "language_info": {
   "codemirror_mode": {
    "name": "ipython",
    "version": 3
   },
   "file_extension": ".py",
   "mimetype": "text/x-python",
   "name": "python",
   "nbconvert_exporter": "python",
   "pygments_lexer": "ipython3",
   "version": "3.11.3"
  }
 },
 "nbformat": 4,
 "nbformat_minor": 5
}
