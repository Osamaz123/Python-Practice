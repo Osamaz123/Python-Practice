{
 "cells": [
  {
   "cell_type": "code",
   "execution_count": 4,
   "id": "8c70143f",
   "metadata": {},
   "outputs": [
    {
     "name": "stdout",
     "output_type": "stream",
     "text": [
      "(1,)\n"
     ]
    }
   ],
   "source": [
    "tuple1 = (1,) \n",
    "print(tuple1)"
   ]
  },
  {
   "cell_type": "markdown",
   "id": "ef3063fd",
   "metadata": {},
   "source": [
    "reversed() is useful for accessing elements of a sequence in reverse order.\n",
    "\n",
    "It returns an iterator, so you may need to convert it to a list, string, or tuple if you need the reversed sequence in that format.\n",
    "\n",
    "\n",
    "Write a Python program to reverse a tuple"
   ]
  },
  {
   "cell_type": "code",
   "execution_count": 10,
   "id": "56e55ddd",
   "metadata": {},
   "outputs": [
    {
     "name": "stdout",
     "output_type": "stream",
     "text": [
      "w3resource\n",
      "('e', 'c', 'r', 'u', 'o', 's', 'e', 'r', '3', 'w')\n",
      "('hello', 'hi')\n"
     ]
    }
   ],
   "source": [
    "x = (\"w3resource\")\n",
    "print(x)\n",
    "y = reversed(x)\n",
    "print(tuple(y))\n",
    "\n",
    "t = (\"hi\", \"hello\")\n",
    "print(tuple(reversed(t)))"
   ]
  },
  {
   "cell_type": "markdown",
   "id": "192a1216",
   "metadata": {},
   "source": [
    "Write a Python program to unzip a list of tuples into individual lists."
   ]
  },
  {
   "cell_type": "code",
   "execution_count": 20,
   "id": "2c8c7a58",
   "metadata": {},
   "outputs": [
    {
     "name": "stdout",
     "output_type": "stream",
     "text": [
      "[(1, 3, 8), (2, 8, 0), (9, 4, 9)]\n"
     ]
    }
   ],
   "source": [
    "l = [(1, 2,9), (3,8, 4), (8,0, 9)]\n",
    "print(list(zip(*l)))"
   ]
  },
  {
   "cell_type": "markdown",
   "id": "6d305eff",
   "metadata": {},
   "source": [
    "Write a Python program to remove an empty tuple(s) from a list of tuples."
   ]
  },
  {
   "cell_type": "code",
   "execution_count": 30,
   "id": "08db2977",
   "metadata": {},
   "outputs": [
    {
     "name": "stdout",
     "output_type": "stream",
     "text": [
      "[('',), ('a', 'b'), ('a', 'b', 'c'), 'd']\n"
     ]
    }
   ],
   "source": [
    "L = [(), (), ('',), ('a', 'b'), ('a', 'b', 'c'), ('d')]\n",
    "\n",
    "L = [x for x in L if len(x)!=0]\n",
    "print(L)"
   ]
  },
  {
   "cell_type": "markdown",
   "id": "4b175730",
   "metadata": {},
   "source": [
    "Write a  Python program to calculate the product, multiplying all the numbers in a given tuple."
   ]
  },
  {
   "cell_type": "code",
   "execution_count": 32,
   "id": "6318bad3",
   "metadata": {},
   "outputs": [
    {
     "name": "stdout",
     "output_type": "stream",
     "text": [
      "-864\n"
     ]
    }
   ],
   "source": [
    "import functools\n",
    "\n",
    "nums = (4, 3, 2, 2, -1, 18)\n",
    "\n",
    "print(functools.reduce(lambda x,y : x*y, nums))\n"
   ]
  },
  {
   "cell_type": "code",
   "execution_count": 37,
   "id": "69e86344",
   "metadata": {},
   "outputs": [
    {
     "name": "stdout",
     "output_type": "stream",
     "text": [
      "[10.5, 44.0, 58.0, 2.5]\n",
      "[30.5, 34.25, 27.0, 23.25]\n"
     ]
    }
   ],
   "source": [
    "nums = ((10, 10, 10, 12), (30, 45, 56, 45), (81, 80, 39, 32), (1, 2, 3, 4))\n",
    "\n",
    "print([sum(x)/len(x) for x in nums])\n",
    "\n",
    "print([sum(x)/len(x) for  x in zip(*nums)])"
   ]
  },
  {
   "cell_type": "markdown",
   "id": "657b022a",
   "metadata": {},
   "source": [
    "Write a Python program to check if a specified element appears in a tuple of tuples."
   ]
  },
  {
   "cell_type": "code",
   "execution_count": 44,
   "id": "c10a916f",
   "metadata": {},
   "outputs": [
    {
     "name": "stdout",
     "output_type": "stream",
     "text": [
      "True\n"
     ]
    }
   ],
   "source": [
    "colors = (\n",
    "    ('Red', 'White', 'Blue'),\n",
    "    ('Green', 'Pink', 'Purple'),\n",
    "    ('Orange', 'Yellow', 'Lime'),\n",
    ")\n",
    "\n",
    "c1 = \"Red\"\n",
    "res = any(t for t in colors if c1 in t)\n",
    "print(res)\n"
   ]
  },
  {
   "cell_type": "code",
   "execution_count": 45,
   "id": "025efdd9",
   "metadata": {},
   "outputs": [
    {
     "name": "stdout",
     "output_type": "stream",
     "text": [
      "[[1, 2], [2, 3, 5], [3, 4], [2, 3, 4, 2]]\n"
     ]
    }
   ],
   "source": [
    "lst_tuples = [(1, 2), (2, 3, 5), (3, 4), (2, 3, 4, 2)]\n",
    "\n",
    "lst_of_lst = [list(x) for x in lst_tuples]\n",
    "print(lst_of_lst)"
   ]
  },
  {
   "cell_type": "code",
   "execution_count": null,
   "id": "d03ea224",
   "metadata": {},
   "outputs": [],
   "source": []
  }
 ],
 "metadata": {
  "kernelspec": {
   "display_name": "Python 3 (ipykernel)",
   "language": "python",
   "name": "python3"
  },
  "language_info": {
   "codemirror_mode": {
    "name": "ipython",
    "version": 3
   },
   "file_extension": ".py",
   "mimetype": "text/x-python",
   "name": "python",
   "nbconvert_exporter": "python",
   "pygments_lexer": "ipython3",
   "version": "3.11.3"
  }
 },
 "nbformat": 4,
 "nbformat_minor": 5
}
