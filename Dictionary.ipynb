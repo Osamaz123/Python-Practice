{
 "cells": [
  {
   "cell_type": "markdown",
   "id": "1941f249",
   "metadata": {},
   "source": [
    "Write a Python program to print all distinct values in a dictionary."
   ]
  },
  {
   "cell_type": "code",
   "execution_count": 8,
   "id": "6a240324",
   "metadata": {},
   "outputs": [
    {
     "name": "stdout",
     "output_type": "stream",
     "text": [
      "unique values:  {'S009', 'S007', 'S005', 'S001', 'S002'}\n"
     ]
    }
   ],
   "source": [
    "L = [{\"V\": \"S001\"}, {\"V\": \"S002\"}, {\"VI\": \"S001\"}, {\"VI\": \"S005\"}, {\"VII\": \"S005\"}, {\"V\": \"S009\"}, {\"VIII\": \"S007\"}]\n",
    "\n",
    "print(\"unique values: \", set(val for dic in L for val in dic.values()))"
   ]
  },
  {
   "cell_type": "code",
   "execution_count": 9,
   "id": "2350f0bc",
   "metadata": {},
   "outputs": [
    {
     "name": "stdout",
     "output_type": "stream",
     "text": [
      "{'w': 1, '3': 1, 'r': 2, 'e': 2, 's': 1, 'o': 1, 'u': 1, 'c': 1}\n"
     ]
    }
   ],
   "source": [
    "from collections import defaultdict, Counter\n",
    "\n",
    "str1 = 'w3resource'\n",
    "\n",
    "my_dict = {}\n",
    "\n",
    "for letter in str1:\n",
    "    my_dict[letter] = my_dict.get(letter, 0) + 1\n",
    "    \n",
    "print(my_dict)"
   ]
  },
  {
   "cell_type": "markdown",
   "id": "f95a30e2",
   "metadata": {},
   "source": [
    "Write a  Python program to sort a list alphabetically in a dictionary."
   ]
  },
  {
   "cell_type": "code",
   "execution_count": 13,
   "id": "d54107f2",
   "metadata": {},
   "outputs": [
    {
     "name": "stdout",
     "output_type": "stream",
     "text": [
      "{'n1': [1, 2, 3], 'n2': [1, 2, 5], 'n3': [2, 3, 4]}\n"
     ]
    }
   ],
   "source": [
    "num = {'n1': [2, 3, 1], 'n2': [5, 1, 2], 'n3': [3, 2, 4]}\n",
    "\n",
    "\n",
    "sorted_dict = {x: sorted(y) for x, y in num.items()}\n",
    "\n",
    "print(sorted_dict)"
   ]
  },
  {
   "cell_type": "code",
   "execution_count": 14,
   "id": "4dc21fc9",
   "metadata": {},
   "outputs": [
    {
     "name": "stdout",
     "output_type": "stream",
     "text": [
      "[{'S001': {'Adina Park': 85}}, {'S002': {'Leyton Marsh': 98}}, {'S003': {'Duncan Boyle': 89}}, {'S004': {'Saim Richards': 92}}]\n"
     ]
    }
   ],
   "source": [
    "student_id = [\"S001\", \"S002\", \"S003\", \"S004\"] \n",
    "student_name = [\"Adina Park\", \"Leyton Marsh\", \"Duncan Boyle\", \"Saim Richards\"] \n",
    "student_grade = [85, 98, 89, 92]\n",
    "\n",
    "\n",
    "res = [{x:{y:z}} for (x,y,z) in zip(student_id,student_name,student_grade)]\n",
    "\n",
    "print(res)\n"
   ]
  },
  {
   "cell_type": "markdown",
   "id": "1053de9e",
   "metadata": {},
   "source": [
    "Write a Python program to transform a dictionary into a list of tuples."
   ]
  },
  {
   "cell_type": "code",
   "execution_count": 1,
   "id": "825a7e53",
   "metadata": {},
   "outputs": [
    {
     "name": "stdout",
     "output_type": "stream",
     "text": [
      "[('Red', 1), ('Green', 3), ('White', 5), ('Black', 2), ('Pink', 4)]\n"
     ]
    }
   ],
   "source": [
    "d = {'Red': 1, 'Green': 3, 'White': 5, 'Black': 2, 'Pink': 4}\n",
    "\n",
    "print(list(d.items()))"
   ]
  },
  {
   "cell_type": "markdown",
   "id": "9f0d4140",
   "metadata": {},
   "source": [
    "Write a  Python program to find the key of the maximum value in a dictionary."
   ]
  },
  {
   "cell_type": "code",
   "execution_count": 23,
   "id": "39271d7a",
   "metadata": {},
   "outputs": [
    {
     "name": "stdout",
     "output_type": "stream",
     "text": [
      "Roxanne\n",
      "Roxanne\n"
     ]
    }
   ],
   "source": [
    "students = {\n",
    "    'Theodore': 19,\n",
    "    'Roxanne': 22,\n",
    "    'Mathew': 21,\n",
    "    'Betty': 20\n",
    "}\n",
    "\n",
    "# print(students[0])\n",
    "val = max(students.values())\n",
    "\n",
    "print(list(students.items())[list(students.values()).index(val)][0])\n",
    "\n",
    "# by using lambda and filter\n",
    "print(list(filter(lambda x : students[x] == val, students))[0])"
   ]
  },
  {
   "cell_type": "code",
   "execution_count": null,
   "id": "fce879fd",
   "metadata": {},
   "outputs": [],
   "source": []
  }
 ],
 "metadata": {
  "kernelspec": {
   "display_name": "Python 3 (ipykernel)",
   "language": "python",
   "name": "python3"
  },
  "language_info": {
   "codemirror_mode": {
    "name": "ipython",
    "version": 3
   },
   "file_extension": ".py",
   "mimetype": "text/x-python",
   "name": "python",
   "nbconvert_exporter": "python",
   "pygments_lexer": "ipython3",
   "version": "3.11.3"
  }
 },
 "nbformat": 4,
 "nbformat_minor": 5
}
