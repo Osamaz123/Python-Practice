{
 "cells": [
  {
   "cell_type": "code",
   "execution_count": 6,
   "id": "5d3331c1",
   "metadata": {},
   "outputs": [
    {
     "name": "stdout",
     "output_type": "stream",
     "text": [
      "False\n",
      "False\n",
      "True\n",
      "{'orange'}\n",
      "{'mango'}\n",
      "{'apple'}\n"
     ]
    }
   ],
   "source": [
    "setx = set([\"apple\", \"mango\"])\n",
    "sety = set([\"mango\", \"orange\"])\n",
    "setz = set([\"mango\"])\n",
    "\n",
    "print(setx<=sety)\n",
    "print(setx.issubset(sety))\n",
    "\n",
    "\n",
    "print(setz<=sety)\n",
    "print(sety.difference(setz))\n",
    "\n",
    "print(sety.intersection(setz))\n",
    "\n",
    "setx.pop()\n",
    "print(setx)"
   ]
  },
  {
   "cell_type": "markdown",
   "id": "31c2fabb",
   "metadata": {},
   "source": [
    "Write a Python program to find all the anagrams and group them together from a given list of strings."
   ]
  },
  {
   "cell_type": "code",
   "execution_count": 20,
   "id": "e32a7101",
   "metadata": {},
   "outputs": [
    {
     "name": "stdout",
     "output_type": "stream",
     "text": [
      "eat,tae\n",
      "eat,abc\n",
      "eat,eat\n",
      "eat,cba\n",
      "eat,zyx\n",
      "cba,abc\n",
      "cba,eat\n",
      "cba,cba\n",
      "cba,zyx\n",
      "tae,eat\n",
      "tae,cba\n",
      "tae,zyx\n",
      "abc,cba\n",
      "abc,zyx\n",
      "xyz,zyx\n",
      "[['eat', 'tae'], ['cba', 'abc']]\n"
     ]
    }
   ],
   "source": [
    "strs = ['eat', 'cba', 'tae', 'abc', 'xyz']\n",
    "res = []\n",
    "for i in range(len(strs)):\n",
    "    for j in range(i,len(strs)):\n",
    "        print(strs[i]+ \",\" +strs[j][::-1])\n",
    "#         if strs[i] == reversed(strs[j]):   \n",
    "# The reversed function returns an iterator, so you'll need to convert it to a string before comparison.\n",
    "# like this if strs[i] == ''.join(reversed\n",
    "        if strs[i] == strs[j][::-1]:\n",
    "            res.append([strs[i],strs[j]])\n",
    "\n",
    "print(res)\n",
    "            "
   ]
  },
  {
   "cell_type": "markdown",
   "id": "c10fcb72",
   "metadata": {},
   "source": [
    "Return unique strings from a list of strings"
   ]
  },
  {
   "cell_type": "code",
   "execution_count": 21,
   "id": "12aa6968",
   "metadata": {},
   "outputs": [
    {
     "name": "stdout",
     "output_type": "stream",
     "text": [
      "{'baz', 'foo', 'abc', 'qux', 'bar'}\n"
     ]
    }
   ],
   "source": [
    "strs = ['foo', 'bar', 'abc', 'foo', 'qux', 'bar', 'baz']\n",
    "\n",
    "print(set(strs))"
   ]
  },
  {
   "cell_type": "code",
   "execution_count": 26,
   "id": "bdf4298f",
   "metadata": {},
   "outputs": [
    {
     "name": "stdout",
     "output_type": "stream",
     "text": [
      "{1, 2, 3, 5, 6, 7}\n"
     ]
    }
   ],
   "source": [
    "list1 = [1, 2, 3]\n",
    "list2 = [5, 6, 7]\n",
    "\n",
    "set1 = set(list1)\n",
    "set2 = set(list2)\n",
    "\n",
    "set2.update(set1)\n",
    "print(set2)"
   ]
  },
  {
   "cell_type": "code",
   "execution_count": 34,
   "id": "3caf43da",
   "metadata": {},
   "outputs": [
    {
     "name": "stdout",
     "output_type": "stream",
     "text": [
      "{'Seven', 1, 2, 3, 4, 5, 'Six', 'Nine', 'Eight', 'Ten'}\n",
      "{'Seven', 1, 3, 4, 5, 'Six', 'Nine', 'Eight', 'Ten'}\n"
     ]
    }
   ],
   "source": [
    "number = {1, 2, 3, 4, 5}\n",
    "num_Dict = {\"6\": 'Six', 7: 'Seven', 8: 'Eight',\n",
    "            9: 'Nine', 10: 'Ten'}\n",
    "\n",
    "number.update(num_Dict.values())\n",
    "print(number)\n",
    "number.discard(2)\n",
    "print(number)"
   ]
  },
  {
   "cell_type": "code",
   "execution_count": null,
   "id": "ddcf333e",
   "metadata": {},
   "outputs": [],
   "source": []
  }
 ],
 "metadata": {
  "kernelspec": {
   "display_name": "Python 3 (ipykernel)",
   "language": "python",
   "name": "python3"
  },
  "language_info": {
   "codemirror_mode": {
    "name": "ipython",
    "version": 3
   },
   "file_extension": ".py",
   "mimetype": "text/x-python",
   "name": "python",
   "nbconvert_exporter": "python",
   "pygments_lexer": "ipython3",
   "version": "3.11.3"
  }
 },
 "nbformat": 4,
 "nbformat_minor": 5
}
