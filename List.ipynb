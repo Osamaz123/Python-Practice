{
 "cells": [
  {
   "cell_type": "markdown",
   "id": "ad05c9a4",
   "metadata": {},
   "source": [
    "Sort Matrix by Row Sum"
   ]
  },
  {
   "cell_type": "code",
   "execution_count": 3,
   "id": "c808480a",
   "metadata": {},
   "outputs": [
    {
     "name": "stdout",
     "output_type": "stream",
     "text": [
      "[[1, 1, 1], [1, 2, 3], [2, 4, 5]]\n"
     ]
    }
   ],
   "source": [
    "matrix1 = [[1, 2, 3], [2, 4, 5], [1, 1, 1]]\n",
    "\n",
    "print(sorted(matrix1, key = sum))"
   ]
  },
  {
   "cell_type": "markdown",
   "id": "2f69eef2",
   "metadata": {},
   "source": [
    "Find Most Frequent Item in List"
   ]
  },
  {
   "cell_type": "code",
   "execution_count": 7,
   "id": "b7dd14e5",
   "metadata": {},
   "outputs": [
    {
     "name": "stdout",
     "output_type": "stream",
     "text": [
      "2\n"
     ]
    }
   ],
   "source": [
    "nums = [3,3,2,4,7,9,8,2,6,5,1,6,1,2,2,4,6,9,1,3]\n",
    "\n",
    "max_val =0\n",
    "\n",
    "res = nums[0]\n",
    "\n",
    "for i in nums:\n",
    "    occu = nums.count(i)\n",
    "    \n",
    "    if occu > max_val:\n",
    "        max_val = occu\n",
    "        res = i\n",
    "\n",
    "print(res)"
   ]
  },
  {
   "cell_type": "code",
   "execution_count": 17,
   "id": "d191be73",
   "metadata": {},
   "outputs": [
    {
     "name": "stdout",
     "output_type": "stream",
     "text": [
      "False\n"
     ]
    }
   ],
   "source": [
    "l = [1,2,3,4,5,6,7,8,9]\n",
    "\n",
    "print(any([l[i] >= l[i+1] for i in range(len(l)-1)]))"
   ]
  },
  {
   "cell_type": "markdown",
   "id": "c973defc",
   "metadata": {},
   "source": [
    "Find Nested List Elements in Another List"
   ]
  },
  {
   "cell_type": "code",
   "execution_count": 18,
   "id": "5753ccc6",
   "metadata": {},
   "outputs": [
    {
     "name": "stdout",
     "output_type": "stream",
     "text": [
      "[[12], [7, 11], [1, 5, 8]]\n"
     ]
    }
   ],
   "source": [
    "nums1 = [1, 2, 3, 4, 5, 6, 7, 8, 9, 10, 11, 12, 13, 14]\n",
    "nums2 = [[12, 18, 23, 25, 45], [7, 11, 19, 24, 28], [1, 5, 8, 18, 15, 16]]\n",
    "\n",
    "res = [[x for x in nums1 if x in row] for row in nums2]\n",
    "\n",
    "print(res)"
   ]
  },
  {
   "cell_type": "code",
   "execution_count": 19,
   "id": "a9ccf31d",
   "metadata": {},
   "outputs": [
    {
     "name": "stdout",
     "output_type": "stream",
     "text": [
      "First even number: 2\n",
      "First odd number: 3\n"
     ]
    }
   ],
   "source": [
    "def find_first_even_odd(numbers):\n",
    "    first_even = None\n",
    "    first_odd = None\n",
    "\n",
    "    for number in numbers:\n",
    "        if first_even is None and number % 2 == 0:\n",
    "            first_even = number\n",
    "        if first_odd is None and number % 2 != 0:\n",
    "            first_odd = number\n",
    "\n",
    "        if first_even is not None and first_odd is not None:\n",
    "            break\n",
    "\n",
    "    return first_even, first_odd\n",
    "\n",
    "\n",
    "numbers = [3, 5, 7, 2, 8, 9, 10]\n",
    "first_even, first_odd = find_first_even_odd(numbers)\n",
    "print(\"First even number:\", first_even)\n",
    "print(\"First odd number:\", first_odd)\n"
   ]
  },
  {
   "cell_type": "markdown",
   "id": "8bd71c4d",
   "metadata": {},
   "source": [
    "Write a Python program to join two given list of lists of the same length, element wise."
   ]
  },
  {
   "cell_type": "code",
   "execution_count": 23,
   "id": "28655926",
   "metadata": {},
   "outputs": [
    {
     "name": "stdout",
     "output_type": "stream",
     "text": [
      "[[10, 20, 61], [30, 40, 12, 14, 15], [50, 60, 12, 13, 19, 20], [30, 20, 80, 12]]\n"
     ]
    }
   ],
   "source": [
    "nums1 = [[10, 20], [30, 40], [50, 60], [30, 20, 80]]\n",
    "nums2 = [[61], [12, 14, 15], [12, 13, 19, 20], [12]]\n",
    "\n",
    "res = [x + y for x, y in zip(nums1, nums2)]\n",
    "\n",
    "print(res)"
   ]
  },
  {
   "cell_type": "code",
   "execution_count": null,
   "id": "cdc899e6",
   "metadata": {},
   "outputs": [],
   "source": []
  }
 ],
 "metadata": {
  "kernelspec": {
   "display_name": "Python 3 (ipykernel)",
   "language": "python",
   "name": "python3"
  },
  "language_info": {
   "codemirror_mode": {
    "name": "ipython",
    "version": 3
   },
   "file_extension": ".py",
   "mimetype": "text/x-python",
   "name": "python",
   "nbconvert_exporter": "python",
   "pygments_lexer": "ipython3",
   "version": "3.11.3"
  }
 },
 "nbformat": 4,
 "nbformat_minor": 5
}
